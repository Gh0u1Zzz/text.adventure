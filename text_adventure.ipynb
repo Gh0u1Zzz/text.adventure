{
  "nbformat": 4,
  "nbformat_minor": 0,
  "metadata": {
    "colab": {
      "provenance": [],
      "authorship_tag": "ABX9TyPJRNasv0zY96/V3vfumltB",
      "include_colab_link": true
    },
    "kernelspec": {
      "name": "python3",
      "display_name": "Python 3"
    },
    "language_info": {
      "name": "python"
    }
  },
  "cells": [
    {
      "cell_type": "markdown",
      "metadata": {
        "id": "view-in-github",
        "colab_type": "text"
      },
      "source": [
        "<a href=\"https://colab.research.google.com/github/Gh0u1Zzz/text.adventure/blob/main/text_adventure.ipynb\" target=\"_parent\"><img src=\"https://colab.research.google.com/assets/colab-badge.svg\" alt=\"Open In Colab\"/></a>"
      ]
    },
    {
      "cell_type": "markdown",
      "source": [
        "text adventure"
      ],
      "metadata": {
        "id": "uete1yndNRgw"
      }
    },
    {
      "cell_type": "code",
      "source": [
        "inventory = []\n",
        "hitpoints = 100\n",
        "\n",
        "def start_game():\n",
        "     print(\"welcome to the Text Adventure Game!\")\n",
        "     print(\"You wake up on the second floor of a house. you look around and see theres the door outside the room and a few dressers and a closet. whats your next move?\")\n",
        "     print(\"1. leave through the door\")\n",
        "     print(\"2. search dressers\")\n",
        "     print(\"3. search the closet\")\n",
        "     choice = input(\"What do you want to do? (1, 2, 3):\")\n",
        "\n",
        "     if choice == \"1\":\n",
        "        door_path()\n",
        "     elif choice == \"2\":\n",
        "        search_dressers()\n",
        "     elif choice == \"3\":\n",
        "        search_closet()\n",
        "     else:\n",
        "        print(\"invalid choice. Please choose 1, 2, or 3.\")\n",
        "        start_game()\n",
        "def door_path():\n",
        "    print(\"You walk out the door into the dark hallway and go downstairs. You hear something crash around the corner. A feral dog rounds the corner, stops and snarls at you.\")\n",
        "    print(\"1. fight the animal\")\n",
        "    print(\"2. run away\")\n",
        "    if inventory:\n",
        "        print(\"3. use an item from your inventory\")\n",
        "    choice = input(\"what do you do? (1, 2, or 3):\")\n",
        "\n",
        "    if choice == \"1\":\n",
        "      fight_dog()\n",
        "    elif choice == \"2\":\n",
        "      print(\"You run back up the stairs and end up back where you started.\")\n",
        "      start_game()\n",
        "    elif choice == \"3\" and inventory:\n",
        "       use_item(\"dog\")\n",
        "    else:\n",
        "      print(\"Invalid choice. Please choose 1\" + (\",2, or 3\" if inventory else \" or 2\") + \".\")\n",
        "      door_path()\n",
        "\n",
        "def fight_dog():\n",
        "     global hitpoints\n",
        "     print(\"You bravely fight the dog.\")\n",
        "     enemy_damage = 20\n",
        "     hitpoints -= enemy_damage\n",
        "     print(f\"You win, but you lose some health. your current health is {hitpoints} hitpoints.\")\n",
        "     check_health()\n",
        "\n",
        "def search_dressers():\n",
        "    print(\"You look through the dresser. you dont find much but some torn clothes and a wallet.\")\n",
        "    print(\"1. Take the wallet and its contents. Congrats you found 30 bucks and a torn cloth bandage\")\n",
        "    print(\"2. Leave it and turn back to the rest of the room.\")\n",
        "    choice = input(\"what do you o do? (1 or 2):\")\n",
        "\n",
        "    if choice == \"1\":\n",
        "      inventory.append(\"30 bucks and 1 torn cloth bandage\")\n",
        "      print(\"you added '30 bucks and 1 torn cloth bandage' to your inventory.\")\n",
        "      start_game()\n",
        "    elif choice == \"2\":\n",
        "      start_game()\n",
        "    else:\n",
        "      print(\"invalid choice. please choose 1 or 2.\")\n",
        "      search_dressers()\n",
        "\n",
        "def search_closet():\n",
        "      print(\"You open the closet and move some stuff around. a baseball bat falls to the floor.\")\n",
        "      print(\"1. Take the baseball bat\")\n",
        "      print(\"2. Leave it and turn back to the room\")\n",
        "      choice = input(\"what do you want to do? (1 or 2):\")\n",
        "\n",
        "      if choice == \"1\":\n",
        "        inventory.append(\"Baseball Bat\")\n",
        "        print(\"Acquired 'Baseball Bat'\")\n",
        "        start_game()\n",
        "      elif choice == \"2\":\n",
        "        start_game()\n",
        "      else:\n",
        "        print(\"Invalid choice. Please choose 1 or 2.\")\n",
        "        search_closet()\n",
        "\n",
        "def use_item(encounter):\n",
        "      global hitpoints\n",
        "      if encounter == \"dog\":\n",
        "        if \"Baseball Bat\" in inventory:\n",
        "         print(\"You use the Baseball Bat to fight the dog off with ease. Congrats\")\n",
        "        elif \"torn cloth bandage\" in inventory:\n",
        "          print(\"You use hte torn cloth bandage to wrap your wound.\")\n",
        "          inventory.remove(\"torn cloth bandage\")\n",
        "          hitpoints += 10\n",
        "          print(f\"Your current health is {hitpoints} hitpoints.\")\n",
        "        else:\n",
        "          print(\"You don't have any useful items to use. The dog bites you and you start bleeding. Congrats! the dog runs away after some struggle between you.\")\n",
        "          hitpoints -= 20\n",
        "          print(f\"Your current health is {hitpoints} hitpoints.\")\n",
        "      else:\n",
        "        print(\"Invalid encounter.\")\n",
        "        start_game()\n",
        "\n",
        "def check_health():\n",
        "      global hitpoints\n",
        "      if hitpoints <= 0:\n",
        "          print(\"You call darkness taking over your vision. Cold creeping through your veins. Death has taken you.\")\n",
        "          start_game()\n",
        "      else:\n",
        "        print(\"you can choose to use a bandage to restore health or continue your journey.\")\n",
        "        print(\"1. Use a bandage\")\n",
        "        print(\"2. Continue\")\n",
        "        choice = input(\"What do you want to do? (1 or 2)\")\n",
        "        if choice == \"1\" and \"torn cloth bandage\" in inventory:\n",
        "            hitpoints += 10\n",
        "            inventory.remove(\"torn cloth bandage\")\n",
        "            print(f\"You use a bandage. Your current health is {hitpoints} hitpoints\")\n",
        "            start_game()\n",
        "        elif choice == \"2\":\n",
        "            start_game()\n",
        "        else:\n",
        "            print(\"Invalid choice or no bandages left. continuing your journey.\")\n",
        "            start_game()\n",
        "\n",
        "if __name__==\"__main__\":\n",
        "     start_game()\n",
        "\n"
      ],
      "metadata": {
        "colab": {
          "base_uri": "https://localhost:8080/",
          "height": 495
        },
        "id": "eC1qdRfQZi_l",
        "outputId": "38c06ae9-f54a-4013-eb90-1aeb3e6117bd"
      },
      "execution_count": 2,
      "outputs": [
        {
          "output_type": "stream",
          "name": "stdout",
          "text": [
            "welcome to the Text Adventure Game!\n",
            "You wake up on the second floor of a house. you look around and see theres the door outside the room and a few dressers and a closet. whats your next move?\n",
            "1. leave through the door\n",
            "2. search dressers\n",
            "3. search the closet\n",
            "What do you want to do? (1, 2, 3):2\n",
            "You look through the dresser. you dont find much but some torn clothes and a wallet.\n",
            "1. Take the wallet and its contents. Congrats you found 30 bucks\n",
            "2. Leave it and turn back to the rest of the room.\n"
          ]
        },
        {
          "output_type": "error",
          "ename": "KeyboardInterrupt",
          "evalue": "Interrupted by user",
          "traceback": [
            "\u001b[0;31m---------------------------------------------------------------------------\u001b[0m",
            "\u001b[0;31mKeyboardInterrupt\u001b[0m                         Traceback (most recent call last)",
            "\u001b[0;32m<ipython-input-2-e5e2c0d14905>\u001b[0m in \u001b[0;36m<cell line: 0>\u001b[0;34m()\u001b[0m\n\u001b[1;32m    118\u001b[0m \u001b[0;34m\u001b[0m\u001b[0m\n\u001b[1;32m    119\u001b[0m \u001b[0;32mif\u001b[0m \u001b[0m__name__\u001b[0m\u001b[0;34m==\u001b[0m\u001b[0;34m\"__main__\"\u001b[0m\u001b[0;34m:\u001b[0m\u001b[0;34m\u001b[0m\u001b[0;34m\u001b[0m\u001b[0m\n\u001b[0;32m--> 120\u001b[0;31m      \u001b[0mstart_game\u001b[0m\u001b[0;34m(\u001b[0m\u001b[0;34m)\u001b[0m\u001b[0;34m\u001b[0m\u001b[0;34m\u001b[0m\u001b[0m\n\u001b[0m\u001b[1;32m    121\u001b[0m \u001b[0;34m\u001b[0m\u001b[0m\n",
            "\u001b[0;32m<ipython-input-2-e5e2c0d14905>\u001b[0m in \u001b[0;36mstart_game\u001b[0;34m()\u001b[0m\n\u001b[1;32m     13\u001b[0m         \u001b[0mdoor_path\u001b[0m\u001b[0;34m(\u001b[0m\u001b[0;34m)\u001b[0m\u001b[0;34m\u001b[0m\u001b[0;34m\u001b[0m\u001b[0m\n\u001b[1;32m     14\u001b[0m      \u001b[0;32melif\u001b[0m \u001b[0mchoice\u001b[0m \u001b[0;34m==\u001b[0m \u001b[0;34m\"2\"\u001b[0m\u001b[0;34m:\u001b[0m\u001b[0;34m\u001b[0m\u001b[0;34m\u001b[0m\u001b[0m\n\u001b[0;32m---> 15\u001b[0;31m         \u001b[0msearch_dressers\u001b[0m\u001b[0;34m(\u001b[0m\u001b[0;34m)\u001b[0m\u001b[0;34m\u001b[0m\u001b[0;34m\u001b[0m\u001b[0m\n\u001b[0m\u001b[1;32m     16\u001b[0m      \u001b[0;32melif\u001b[0m \u001b[0mchoice\u001b[0m \u001b[0;34m==\u001b[0m \u001b[0;34m\"3\"\u001b[0m\u001b[0;34m:\u001b[0m\u001b[0;34m\u001b[0m\u001b[0;34m\u001b[0m\u001b[0m\n\u001b[1;32m     17\u001b[0m         \u001b[0msearch_closet\u001b[0m\u001b[0;34m(\u001b[0m\u001b[0;34m)\u001b[0m\u001b[0;34m\u001b[0m\u001b[0;34m\u001b[0m\u001b[0m\n",
            "\u001b[0;32m<ipython-input-2-e5e2c0d14905>\u001b[0m in \u001b[0;36msearch_dressers\u001b[0;34m()\u001b[0m\n\u001b[1;32m     50\u001b[0m     \u001b[0mprint\u001b[0m\u001b[0;34m(\u001b[0m\u001b[0;34m\"1. Take the wallet and its contents. Congrats you found 30 bucks\"\u001b[0m\u001b[0;34m)\u001b[0m\u001b[0;34m\u001b[0m\u001b[0;34m\u001b[0m\u001b[0m\n\u001b[1;32m     51\u001b[0m     \u001b[0mprint\u001b[0m\u001b[0;34m(\u001b[0m\u001b[0;34m\"2. Leave it and turn back to the rest of the room.\"\u001b[0m\u001b[0;34m)\u001b[0m\u001b[0;34m\u001b[0m\u001b[0;34m\u001b[0m\u001b[0m\n\u001b[0;32m---> 52\u001b[0;31m     \u001b[0mchoice\u001b[0m \u001b[0;34m=\u001b[0m \u001b[0minput\u001b[0m\u001b[0;34m(\u001b[0m\u001b[0;34m\"what do you o do? (1 or 2):\"\u001b[0m\u001b[0;34m)\u001b[0m\u001b[0;34m\u001b[0m\u001b[0;34m\u001b[0m\u001b[0m\n\u001b[0m\u001b[1;32m     53\u001b[0m \u001b[0;34m\u001b[0m\u001b[0m\n\u001b[1;32m     54\u001b[0m     \u001b[0;32mif\u001b[0m \u001b[0mchoice\u001b[0m \u001b[0;34m==\u001b[0m \u001b[0;34m\"1\"\u001b[0m\u001b[0;34m:\u001b[0m\u001b[0;34m\u001b[0m\u001b[0;34m\u001b[0m\u001b[0m\n",
            "\u001b[0;32m/usr/local/lib/python3.11/dist-packages/ipykernel/kernelbase.py\u001b[0m in \u001b[0;36mraw_input\u001b[0;34m(self, prompt)\u001b[0m\n\u001b[1;32m   1175\u001b[0m                 \u001b[0;34m\"raw_input was called, but this frontend does not support input requests.\"\u001b[0m\u001b[0;34m\u001b[0m\u001b[0;34m\u001b[0m\u001b[0m\n\u001b[1;32m   1176\u001b[0m             )\n\u001b[0;32m-> 1177\u001b[0;31m         return self._input_request(\n\u001b[0m\u001b[1;32m   1178\u001b[0m             \u001b[0mstr\u001b[0m\u001b[0;34m(\u001b[0m\u001b[0mprompt\u001b[0m\u001b[0;34m)\u001b[0m\u001b[0;34m,\u001b[0m\u001b[0;34m\u001b[0m\u001b[0;34m\u001b[0m\u001b[0m\n\u001b[1;32m   1179\u001b[0m             \u001b[0mself\u001b[0m\u001b[0;34m.\u001b[0m\u001b[0m_parent_ident\u001b[0m\u001b[0;34m[\u001b[0m\u001b[0;34m\"shell\"\u001b[0m\u001b[0;34m]\u001b[0m\u001b[0;34m,\u001b[0m\u001b[0;34m\u001b[0m\u001b[0;34m\u001b[0m\u001b[0m\n",
            "\u001b[0;32m/usr/local/lib/python3.11/dist-packages/ipykernel/kernelbase.py\u001b[0m in \u001b[0;36m_input_request\u001b[0;34m(self, prompt, ident, parent, password)\u001b[0m\n\u001b[1;32m   1217\u001b[0m             \u001b[0;32mexcept\u001b[0m \u001b[0mKeyboardInterrupt\u001b[0m\u001b[0;34m:\u001b[0m\u001b[0;34m\u001b[0m\u001b[0;34m\u001b[0m\u001b[0m\n\u001b[1;32m   1218\u001b[0m                 \u001b[0;31m# re-raise KeyboardInterrupt, to truncate traceback\u001b[0m\u001b[0;34m\u001b[0m\u001b[0;34m\u001b[0m\u001b[0m\n\u001b[0;32m-> 1219\u001b[0;31m                 \u001b[0;32mraise\u001b[0m \u001b[0mKeyboardInterrupt\u001b[0m\u001b[0;34m(\u001b[0m\u001b[0;34m\"Interrupted by user\"\u001b[0m\u001b[0;34m)\u001b[0m \u001b[0;32mfrom\u001b[0m \u001b[0;32mNone\u001b[0m\u001b[0;34m\u001b[0m\u001b[0;34m\u001b[0m\u001b[0m\n\u001b[0m\u001b[1;32m   1220\u001b[0m             \u001b[0;32mexcept\u001b[0m \u001b[0mException\u001b[0m\u001b[0;34m:\u001b[0m\u001b[0;34m\u001b[0m\u001b[0;34m\u001b[0m\u001b[0m\n\u001b[1;32m   1221\u001b[0m                 \u001b[0mself\u001b[0m\u001b[0;34m.\u001b[0m\u001b[0mlog\u001b[0m\u001b[0;34m.\u001b[0m\u001b[0mwarning\u001b[0m\u001b[0;34m(\u001b[0m\u001b[0;34m\"Invalid Message:\"\u001b[0m\u001b[0;34m,\u001b[0m \u001b[0mexc_info\u001b[0m\u001b[0;34m=\u001b[0m\u001b[0;32mTrue\u001b[0m\u001b[0;34m)\u001b[0m\u001b[0;34m\u001b[0m\u001b[0;34m\u001b[0m\u001b[0m\n",
            "\u001b[0;31mKeyboardInterrupt\u001b[0m: Interrupted by user"
          ]
        }
      ]
    },
    {
      "cell_type": "markdown",
      "source": [],
      "metadata": {
        "id": "W-ot3LjvEtwf"
      }
    }
  ]
}